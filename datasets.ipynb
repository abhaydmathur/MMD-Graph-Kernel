{
 "cells": [
  {
   "cell_type": "code",
   "execution_count": 3,
   "metadata": {},
   "outputs": [],
   "source": [
    "from torch_geometric.datasets import TUDataset\n",
    "import torch\n",
    "import numpy as np\n",
    "import matplotlib.pyplot as plt"
   ]
  },
  {
   "cell_type": "code",
   "execution_count": 5,
   "metadata": {},
   "outputs": [
    {
     "name": "stderr",
     "output_type": "stream",
     "text": [
      "Downloading https://www.chrsmrrs.com/graphkerneldatasets/PROTEINS.zip\n",
      "Processing...\n",
      "Done!\n"
     ]
    }
   ],
   "source": [
    "proteins_dataset = TUDataset(root='data/PROTEINS', name='PROTEINS')"
   ]
  },
  {
   "cell_type": "code",
   "execution_count": 6,
   "metadata": {},
   "outputs": [
    {
     "name": "stderr",
     "output_type": "stream",
     "text": [
      "Downloading https://www.chrsmrrs.com/graphkerneldatasets/BZR.zip\n",
      "Processing...\n",
      "Done!\n"
     ]
    }
   ],
   "source": [
    "bzr_dataset = TUDataset(root='data/BZR', name='BZR')"
   ]
  },
  {
   "cell_type": "code",
   "execution_count": 7,
   "metadata": {},
   "outputs": [
    {
     "name": "stderr",
     "output_type": "stream",
     "text": [
      "Downloading https://www.chrsmrrs.com/graphkerneldatasets/DHFR.zip\n",
      "Processing...\n",
      "Done!\n"
     ]
    }
   ],
   "source": [
    "dhfr_dataset = TUDataset(root='data/DHFR', name='DHFR')"
   ]
  },
  {
   "cell_type": "code",
   "execution_count": 8,
   "metadata": {},
   "outputs": [
    {
     "name": "stderr",
     "output_type": "stream",
     "text": [
      "Downloading https://www.chrsmrrs.com/graphkerneldatasets/PTC_FM.zip\n",
      "Processing...\n",
      "Done!\n"
     ]
    }
   ],
   "source": [
    "ptc_fm_dataset = TUDataset(root='data/PTC_FM', name='PTC_FM')"
   ]
  },
  {
   "cell_type": "code",
   "execution_count": 12,
   "metadata": {},
   "outputs": [],
   "source": [
    "mutag_dataset = TUDataset(root='data/MUTAG', name='MUTAG')"
   ]
  },
  {
   "cell_type": "code",
   "execution_count": 16,
   "metadata": {},
   "outputs": [
    {
     "name": "stdout",
     "output_type": "stream",
     "text": [
      "PROTEINS\n",
      "TUDataset (#graphs=1113):\n",
      "+------------+----------+----------+\n",
      "|            |   #nodes |   #edges |\n",
      "|------------+----------+----------|\n",
      "| mean       |     39.1 |    145.6 |\n",
      "| std        |     45.8 |    169.3 |\n",
      "| min        |      4   |     10   |\n",
      "| quantile25 |     15   |     56   |\n",
      "| median     |     26   |     98   |\n",
      "| quantile75 |     45   |    174   |\n",
      "| max        |    620   |   2098   |\n",
      "+------------+----------+----------+\n",
      "BZR\n",
      "TUDataset (#graphs=405):\n",
      "+------------+----------+----------+\n",
      "|            |   #nodes |   #edges |\n",
      "|------------+----------+----------|\n",
      "| mean       |     35.8 |     76.7 |\n",
      "| std        |      7.3 |     15.4 |\n",
      "| min        |     13   |     26   |\n",
      "| quantile25 |     31   |     68   |\n",
      "| median     |     35   |     74   |\n",
      "| quantile75 |     41   |     86   |\n",
      "| max        |     57   |    120   |\n",
      "+------------+----------+----------+\n",
      "DHFR\n",
      "TUDataset (#graphs=756):\n",
      "+------------+----------+----------+\n",
      "|            |   #nodes |   #edges |\n",
      "|------------+----------+----------|\n",
      "| mean       |     42.4 |     89.1 |\n",
      "| std        |      9.1 |     18.5 |\n",
      "| min        |     20   |     42   |\n",
      "| quantile25 |     37   |     78   |\n",
      "| median     |     42   |     90   |\n",
      "| quantile75 |     48   |    100   |\n",
      "| max        |     71   |    146   |\n",
      "+------------+----------+----------+\n",
      "PTC_FM\n",
      "TUDataset (#graphs=349):\n",
      "+------------+----------+----------+\n",
      "|            |   #nodes |   #edges |\n",
      "|------------+----------+----------|\n",
      "| mean       |     14.1 |     29   |\n",
      "| std        |      8.5 |     18.9 |\n",
      "| min        |      2   |      2   |\n",
      "| quantile25 |      8   |     16   |\n",
      "| median     |     13   |     26   |\n",
      "| quantile75 |     18   |     38   |\n",
      "| max        |     64   |    142   |\n",
      "+------------+----------+----------+\n",
      "MUTAG\n",
      "TUDataset (#graphs=188):\n",
      "+------------+----------+----------+\n",
      "|            |   #nodes |   #edges |\n",
      "|------------+----------+----------|\n",
      "| mean       |     17.9 |     39.6 |\n",
      "| std        |      4.6 |     11.4 |\n",
      "| min        |     10   |     20   |\n",
      "| quantile25 |     14   |     28   |\n",
      "| median     |     17   |     38   |\n",
      "| quantile75 |     22   |     50   |\n",
      "| max        |     28   |     66   |\n",
      "+------------+----------+----------+\n"
     ]
    }
   ],
   "source": [
    "datasets = [proteins_dataset, bzr_dataset, dhfr_dataset, ptc_fm_dataset, mutag_dataset]\n",
    "\n",
    "for dataset in datasets:\n",
    "    print(dataset.name)\n",
    "    print(dataset.get_summary())"
   ]
  },
  {
   "cell_type": "code",
   "execution_count": 17,
   "metadata": {},
   "outputs": [
    {
     "name": "stderr",
     "output_type": "stream",
     "text": [
      "Downloading https://www.chrsmrrs.com/graphkerneldatasets/Fingerprint.zip\n",
      "Processing...\n",
      "Done!\n"
     ]
    },
    {
     "name": "stdout",
     "output_type": "stream",
     "text": [
      "Fingerprint\n",
      "TUDataset (#graphs=2800):\n",
      "+------------+----------+----------+\n",
      "|            |   #nodes |   #edges |\n",
      "|------------+----------+----------|\n",
      "| mean       |      5.4 |      8.8 |\n",
      "| std        |      5   |      9.1 |\n",
      "| min        |      0   |      0   |\n",
      "| quantile25 |      2   |      2   |\n",
      "| median     |      4   |      6   |\n",
      "| quantile75 |      8   |     14   |\n",
      "| max        |     26   |     48   |\n",
      "+------------+----------+----------+\n"
     ]
    }
   ],
   "source": [
    "fingerprint_dataset = TUDataset(root='data/Fingerprint', name='Fingerprint')\n",
    "\n",
    "print(fingerprint_dataset.name)\n",
    "print(fingerprint_dataset.get_summary())"
   ]
  },
  {
   "cell_type": "code",
   "execution_count": 18,
   "metadata": {},
   "outputs": [
    {
     "name": "stderr",
     "output_type": "stream",
     "text": [
      "Downloading https://www.chrsmrrs.com/graphkerneldatasets/BZR_MD.zip\n",
      "Processing...\n"
     ]
    },
    {
     "name": "stdout",
     "output_type": "stream",
     "text": [
      "BZR_MD\n",
      "TUDataset (#graphs=306):\n",
      "+------------+----------+----------+\n",
      "|            |   #nodes |   #edges |\n",
      "|------------+----------+----------|\n",
      "| mean       |     21.3 |    450.1 |\n",
      "| std        |      4.2 |    171.9 |\n",
      "| min        |      8   |     56   |\n",
      "| quantile25 |     19   |    342   |\n",
      "| median     |     21   |    420   |\n",
      "| quantile75 |     24   |    552   |\n",
      "| max        |     33   |   1056   |\n",
      "+------------+----------+----------+\n"
     ]
    },
    {
     "name": "stderr",
     "output_type": "stream",
     "text": [
      "Done!\n"
     ]
    }
   ],
   "source": [
    "bzr_md_dataset = TUDataset(root='data/BZR_MD', name='BZR_MD')\n",
    "\n",
    "print(bzr_md_dataset.name)\n",
    "print(bzr_md_dataset.get_summary())"
   ]
  },
  {
   "cell_type": "code",
   "execution_count": null,
   "metadata": {},
   "outputs": [],
   "source": []
  }
 ],
 "metadata": {
  "kernelspec": {
   "display_name": "mmdgk",
   "language": "python",
   "name": "python3"
  },
  "language_info": {
   "codemirror_mode": {
    "name": "ipython",
    "version": 3
   },
   "file_extension": ".py",
   "mimetype": "text/x-python",
   "name": "python",
   "nbconvert_exporter": "python",
   "pygments_lexer": "ipython3",
   "version": "3.12.3"
  }
 },
 "nbformat": 4,
 "nbformat_minor": 2
}
